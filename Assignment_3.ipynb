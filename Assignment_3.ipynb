{
 "cells": [
  {
   "cell_type": "code",
   "execution_count": 1,
   "metadata": {},
   "outputs": [],
   "source": [
    "# Write a python script that would create a new list containing the data type of the elements in the list below:\n",
    "\n",
    "new_list= [1,2,\"great\", \"faithful\",(1,2,3), False]\n",
    "\n"
   ]
  },
  {
   "cell_type": "code",
   "execution_count": 2,
   "metadata": {},
   "outputs": [],
   "source": [
    "Create two lists, then write a python script to merge both lists\n"
   ]
  },
  {
   "cell_type": "code",
   "execution_count": 6,
   "metadata": {},
   "outputs": [],
   "source": [
    "#Given the following dictionary:\n",
    "\n",
    "warehouse = {\n",
    "    'cables' : {\"Colman\":500, \"Alinco\": 600},\n",
    "    'paint' : ['saclux', 'demalux', 'silklux'],\n",
    "    'metals' : ['roofing sheets','binding wires', 'coils']\n",
    "}\n",
    "\n"
   ]
  },
  {
   "cell_type": "markdown",
   "metadata": {},
   "source": [
    "Execute the following using the dictionary above:\n",
    "\n",
    "* Add a key to inventory called 'safety gear'.\n",
    "* Set the value of 'safety gear' to be a list consisting of the strings 'red wings boot', 'hard hat',  and 'coverall'.\n",
    "* sort the items in the list stored under the 'metals' key.\n",
    "* Take out Colman from the dictionary whos key is 'cables'"
   ]
  },
  {
   "cell_type": "markdown",
   "metadata": {},
   "source": [
    "The filename should be your First name and surname plus as3 (e.g nikson_kejeh_as3.py)\n",
    "Note: The script should be saved as a .py file and not a jupyter notebook file\n",
    "Send the assignment to the email address: equesttechnical@gmail.com"
   ]
  },
  {
   "cell_type": "code",
   "execution_count": null,
   "metadata": {},
   "outputs": [],
   "source": []
  }
 ],
 "metadata": {
  "kernelspec": {
   "display_name": "Python 3",
   "language": "python",
   "name": "python3"
  },
  "language_info": {
   "codemirror_mode": {
    "name": "ipython",
    "version": 3
   },
   "file_extension": ".py",
   "mimetype": "text/x-python",
   "name": "python",
   "nbconvert_exporter": "python",
   "pygments_lexer": "ipython3",
   "version": "3.7.6"
  }
 },
 "nbformat": 4,
 "nbformat_minor": 2
}
