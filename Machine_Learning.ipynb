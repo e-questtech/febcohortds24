{
 "cells": [
  {
   "cell_type": "markdown",
   "metadata": {},
   "source": [
    "# Machine Learning"
   ]
  },
  {
   "cell_type": "markdown",
   "metadata": {},
   "source": [
    "### What is Machine Learning?"
   ]
  },
  {
   "cell_type": "markdown",
   "metadata": {},
   "source": [
    "Machine learning is a subset of Artificial intelligence that is concerned with setting up machines to make decisions based on past experience from information available to it i.e learned patterns obtained from data."
   ]
  },
  {
   "cell_type": "markdown",
   "metadata": {},
   "source": [
    "The goal in machine learning is to reduce the difference between the estimated value and actual value as much as is possible. The larger the dataset, the better the performance of the model. A model can aslo be improved by adding more variables/features."
   ]
  },
  {
   "cell_type": "markdown",
   "metadata": {},
   "source": [
    "Types of Machine Learning:\n",
    "    Supervised learning\n",
    "    unsupervised learning\n",
    "    Reinforcement learning"
   ]
  },
  {
   "cell_type": "markdown",
   "metadata": {},
   "source": [
    "## Supervised Learning\n",
    "\n",
    "This type of learning involves making use of data with known results to train algorithms. Supervised learning algorithms are usually trained to:\n",
    "* Predict outcomes\n",
    "* Classify data\n",
    "\n",
    "Examples of Supervised learning algortithms are:\n",
    "* Random Forest\n",
    "* Linear regression\n",
    "* Support Vector Machines\n",
    "\n",
    "Applications:\n",
    "* Siri, Cortana, Alexa\n",
    "* predicting credit worthiness of clients\n",
    "* Analyse products customers buy together\n",
    "* Predict hospital readmission rates"
   ]
  },
  {
   "cell_type": "markdown",
   "metadata": {},
   "source": [
    "## Unsupervised Learning\n",
    "\n",
    "This type of machine learning only has input data, with no output or results. The algorihtm detects patterns based on the charcteristics of the data.\n",
    "\n",
    "Examples of unsupervised learning algortithms are:\n",
    "\n",
    "* K-means\n",
    "* Apriori\n",
    "* Hierarchical clustering\n",
    "\n",
    "Applications:\n",
    "\n",
    "* recommend products to customers based on past purchases\n",
    "* segment customers based on beahvioural characteristics\n",
    "* categorize MRI Data by normal or abnormal"
   ]
  },
  {
   "cell_type": "markdown",
   "metadata": {},
   "source": [
    "## Reinforcement learning\n",
    "\n",
    "\n",
    "\n",
    "\n",
    "\n",
    "Applications:\n",
    "* create next best offer for a call center\n",
    "* (Retail)reduce excess stock by dynamic pricing (i.e adjust price based on customer response to the offer)"
   ]
  },
  {
   "cell_type": "markdown",
   "metadata": {},
   "source": [
    "In Reinforcement learning, an intelligent agent learns to make decisions by intercating with its environment. This form of learnig  uses the method of sequential decision-making. Sequential decision making is a process of choosing the best alternative based on the options available at each step."
   ]
  },
  {
   "cell_type": "markdown",
   "metadata": {},
   "source": [
    "### Deep Learning"
   ]
  },
  {
   "cell_type": "markdown",
   "metadata": {},
   "source": [
    "Deep learning is a subset of artficial intelligence that is concerned with building algorithms known as neural networks.\n",
    "A neural network is a computational system that imitates biological nerons in humans. \n",
    "\n",
    "Deep learning automatically finds the features which are most important for the desired outcome. This is known as feature extraction and is the main advantage of Deep Learning. "
   ]
  },
  {
   "cell_type": "markdown",
   "metadata": {},
   "source": [
    "AI vs ML vs DL\n",
    "\n"
   ]
  },
  {
   "cell_type": "markdown",
   "metadata": {},
   "source": [
    "## Classification algorithm"
   ]
  },
  {
   "cell_type": "markdown",
   "metadata": {},
   "source": [
    "Supervised learning in which the computer learns from inputs given to it and use that to classify others. used for anomaly detection, fraud detection."
   ]
  },
  {
   "cell_type": "markdown",
   "metadata": {},
   "source": [
    "Clustering algorithm"
   ]
  },
  {
   "cell_type": "markdown",
   "metadata": {},
   "source": [
    "Regression algorithm (stock price prediction)"
   ]
  },
  {
   "cell_type": "markdown",
   "metadata": {},
   "source": [
    "Machine learning ia a subset of AI which uses statistical methods to enable machines to improve with experience."
   ]
  },
  {
   "cell_type": "code",
   "execution_count": null,
   "metadata": {},
   "outputs": [],
   "source": []
  },
  {
   "cell_type": "markdown",
   "metadata": {},
   "source": [
    "Deep Learning is the next evolution of machine learning\n",
    "\n",
    "Data dependency\n",
    "Deep learning doesn't perform well with small data sample, it usually requires large datasets while machine learning can be executed with small datasets. DL algorithm perfroms better as the dataset gets larger.\n",
    "\n",
    "Hardware dependency\n",
    "Deep learning algorithm are dependent on high end machines while Ml algorithms can run on low ned machines. Deep learning makes use of GPUS\n",
    "\n",
    "Feature Engineering\n",
    "For ML features are identified by an expert and then hand coded.\n",
    "For DL it learns high level features from the data.\n",
    "\n",
    "Problem solving approach\n",
    "ML Solves problem by breaking into smaller parts and agrregating at the end to get the results.\n",
    "Dl solve problems by working from end to end.\n",
    "\n",
    "Execution time\n",
    "DL algorithm takes a longer time to train than ML. However during testing Dl algorithm executes faster.\n",
    "\n",
    "Interpretability\n",
    "\n"
   ]
  },
  {
   "cell_type": "markdown",
   "metadata": {},
   "source": [
    "###Classification algorithm\n",
    "\n",
    "Predicts category using data\n",
    "Computer program learns from input given and then uses the learning it to classify a new observation.\n",
    "\n",
    "Anomaly detection algorithm\n",
    "This algorithm is used for identidying unusaul patterns. E.g fraud detection, hack detection, spotting tumors in an MRI scan\n",
    "\n",
    "Clustering algorithm\n",
    "Group data based on similar conditions. Separate groups with similar traits and assign them into different clusters.\n",
    "\n",
    "Regression algorithm\n",
    "Here data itself is predicted. E.g market value of house, Will it rain or not, stock prediction.\n"
   ]
  },
  {
   "cell_type": "markdown",
   "metadata": {},
   "source": [
    "## Data\n",
    "\n",
    "Types of data\n",
    "* Qualitative: Nominal and ordinal\n",
    "* Quantitative: Discrete and continuous\n",
    "\n",
    "Qualitative data deals with descriptors that can't be easily measured, but can be observed subjectively.\n",
    "\n",
    "Nominal data is data with no inherent order or ranking. e.g race, gender.\n",
    "Ordinal data is data with an ordered series\n",
    "\n",
    "Quantitative data deals with numbers and things you can measure objectively.\n",
    "Discrete data aka caregorical data is data that holds finite number of possible values. e.g number of students in a class\n",
    "Continuous data is data that can hold infinite number of possible values. e.g weight of a person"
   ]
  },
  {
   "cell_type": "markdown",
   "metadata": {},
   "source": [
    "## Statistics\n",
    "\n",
    "An area of applied mathematics concerned with the collection, analysis, interpretation and presentation of data.\n",
    "\n",
    "Basic terminologies on statistics:\n",
    "Popultaion: a collection of individuals or objects or events whose properties are to be analyzed\n",
    "Sample: a subset of population. A well chosen sample will contain most of the information about a particular population parameter i'e represent the entire population.\n"
   ]
  },
  {
   "cell_type": "markdown",
   "metadata": {},
   "source": [
    "### Sampling techniques\n",
    "Why sampling?\n",
    "\n",
    "Types of sampling\n",
    "\n",
    "Probability: Random, Stratified, Systematic\n",
    "Non Probability\n",
    "\n",
    "Probability sampling: Sampling using the theory of probability.\n",
    "   * Random: each member of the population has an equal chance of being selected in the sample.\n",
    "   * Systematic: every nth record is chosen from the population\n",
    "   * Stratified: using a stratum. A stratum is subset of the population that shares at least one common characteristic e.g Gender\n",
    "   * Random sampling is used to select a sufficient number of subjects from each stratum."
   ]
  },
  {
   "cell_type": "markdown",
   "metadata": {},
   "source": [
    "### Types of statistics\n",
    "\n",
    "Descriptive: a method used to describe and understand the features of a data set by giving a summary of the data.\n",
    "Inferential: makes inferences based on the data sample taken from a population.\n",
    "\n",
    "Categories of descriptive:\n",
    "Measures of central tendency: statistical measures that represent the summary of a dataset (mean, median, mode)\n",
    "\n",
    "Measures of spread: describes the variability in a sample or poulation (Range, inter Quartile range, Variance, standard deviation)\n",
    "    Interquartile range; difference between Q3 and Q1\n",
    "    Variance: the extent to which a random variable differs from its expected value.\n",
    "    Deviation: difference between each element from the mean\n",
    "    Satndard deviation: measure of dispersion of a set of data from its mean"
   ]
  },
  {
   "cell_type": "markdown",
   "metadata": {},
   "source": [
    "### Information gain and entropy\n",
    "\n",
    "Entropy is the measure of uncertainty present in the data. \n",
    "Information gain: how much information a particular feature/variable gives us about the final outcome\n",
    "\n"
   ]
  },
  {
   "cell_type": "markdown",
   "metadata": {},
   "source": [
    "### Confusion matrix\n",
    "\n",
    "A confusion matrix  is a matrix or a table that is often used to describe the performance of a classification model on a set of data for which the true values are known.\n",
    "\n",
    "True positives + True negatives/True positives + True negatives+ False positives + False negatives"
   ]
  },
  {
   "cell_type": "markdown",
   "metadata": {},
   "source": [
    "## Probability\n",
    "\n",
    "Probability is how likely an event is to occur.\n",
    "\n",
    "Terminologies\n",
    "\n",
    "Random experiment: a process for which the outcome cannot be predicted with certainty\n",
    "Sample space: entire possible set of outcomes of a random experiment\n",
    "Event: the outcome of an experiment. An event is subset of a sample space.\n",
    "\n",
    "\n",
    "Types of events:\n",
    "Disjoint events: events without common outcomes e.g a person cannot be male and female\n",
    "Non_Disjoint events: events with common outcomes e.g a eprson can get 100 marks in maths and 100 marks in English"
   ]
  },
  {
   "cell_type": "markdown",
   "metadata": {},
   "source": [
    "## Regression\n",
    "\n",
    "Regression is a predictive modelling technique which investiagtes the relationship betweeen a dependent and an independent variable.\n",
    "\n",
    "Uses:\n",
    "Forecasting trends\n",
    "Determining the strenght of predictors\n",
    "Forecasting an effect\n",
    "\n",
    "### Linear regression\n",
    "\n",
    "This involves fitting data to the straight line equation: y = mx + c\n",
    "So for every value of x we want to get the corresponging value of y\n",
    "\n",
    "Logistic regression involves checking true or false value for a given value of x.\n",
    "\n",
    "#### When to use Linear regression\n",
    "\n",
    "Linear regression is not good for classification.\n",
    "\n",
    "Uses\n",
    "\n",
    "Linear regression is used for evaluating trends and sales estimates\n",
    "Analyze the impact of price changes\n",
    "Risk assessment in the finane and insurance sector\n",
    "\n",
    "### Checking the goodness of fit\n",
    "R squared is a statistical measure of how close the data are to the fitted regression line.\n",
    "It is also known as the coefficient of determination.\n",
    "\n",
    "R^2 = summation (predicted value-mean of actual values)^2/(Actual vaues-mean of actual values)^2"
   ]
  },
  {
   "cell_type": "markdown",
   "metadata": {},
   "source": [
    "### Logistic regression\n",
    "Logistic regression fits data to acurved line. It produces results in a binary format which i8s used to predict the outcome of a categorical dependent variable.\n",
    "\n",
    "When applying machine learning, we convert all strings or drop them.\n"
   ]
  },
  {
   "cell_type": "markdown",
   "metadata": {},
   "source": [
    "## Classification\n",
    "\n",
    "\n",
    "Classification is the process of separating the dataset into groups by labelling based on a condition.\n",
    "\n",
    "\n",
    "Types of classification\n",
    "\n",
    "Decision Tree: Graphical representation of all the possible solutions to a decision based on certain conditions. It starts with a root and branhes off as it grows.\n",
    "\n",
    "Random Forest: The random forest algorithm combines the output of mutiple descision trees to generate an output.\n",
    "\n",
    "Naive Bayes\n",
    "\n",
    "K-Nearest Neighbour (KNN): Stores all the available cases and classifies new cases based on a similarity measure.\n"
   ]
  },
  {
   "cell_type": "markdown",
   "metadata": {},
   "source": [
    "E.g of decision tree structure is the automated customer care call lines where a customer is asked to pick an option and press a button and gets to another set of decisions.\n",
    "\n",
    "Decision tree terminology:\n",
    "    Root node:a sample of the entire \n",
    "    Leaf node: a node that cannot be futher divided\n",
    "    Pruning: removing unwanted sub nodes or branches of the tree\n",
    "    \n",
    "    How does a decision Tree decide where to split?\n",
    "    Gini index: the measure of impurity\n",
    "    Information gain:decrease in entropy after a dataset is split on the basis of an attribute. The attribute with the highest information gain is considered the best.\n",
    "    Reduction in variance is an algorithm used for continuous target variables\n",
    "    Chi square: an algorithm used to discover the difference between the parent node and the child nodes.\n",
    "    Impurity is the degree of randomness\n",
    "    \n",
    "Which attribute should be picked as the root node?\n",
    "-the attribute that best describes the data set, which is the node that gives the highest information gain.\n",
    "\n",
    "Entropy(E) = -P(yes)log2P(yes)-P(no)log2P(no)\n",
    "\n",
    "When P(yes)= P(no), Entropy(S) = 1\n",
    "\n",
    "Information gain = Entropy(S) - [Weighted average * Entropy(each feature)]\n",
    "\n",
    "\n"
   ]
  },
  {
   "cell_type": "markdown",
   "metadata": {},
   "source": [
    "## Random Forest features\n",
    "\n",
    "* One of the most accurate learning algorithms\n",
    "* Works for both regression and classification problems\n",
    "* Feature selection is implicit\n",
    "* Requires minimal input preparation\n",
    "* Builds multiple decision trees and merges them together\n",
    "* Trained with the bagging method\n",
    "* Can be used for both regression and classification\n",
    "\n",
    "### Random forest use cases\n",
    "\n",
    "* Banking - identifying loan risk applicants  by their probability of defaulting payments\n",
    "* Medicine - identify disease trends and at-risk patients\n",
    "* Land use - identify similar areas of land use\n",
    "* Marketing - identify customer churn"
   ]
  },
  {
   "cell_type": "markdown",
   "metadata": {},
   "source": [
    "## KNN algorithm\n",
    "\n",
    "\n",
    "USe cases:\n",
    "Recommendation system for online retail stores\n",
    "Concept search\n",
    "Image and video recognisation\n",
    "\n",
    "How is K chosen:\n",
    "\n",
    "* Euclidean distance SQRT[(X2-X1)^2-(Y2-Y1)^2]\n",
    "* Manhattan distance |X2-X1|-|Y2-Y1|\n",
    "\n",
    "KNN Steps:\n",
    "* Import Data\n",
    "* Split data into test/train\n",
    "* Calculate the distance between instances of data\n",
    "* Choose a value for K\n",
    "* Generate a response from a set of data instances\n",
    "* Determine the accuracy of the prediction\n",
    "\n",
    "KNN is called a lazy learner becasue it memorises the training data isntead of learning from it. It goes into action only at the time of prediction."
   ]
  },
  {
   "cell_type": "markdown",
   "metadata": {},
   "source": [
    "### Naive Bayes Theorem:\n",
    "   Found to be effective for medical diagnosis. Assumes that the presence of a particular feature in a class is unrelated to the presence of any other feature. Useful for large datasets.\n",
    "Types: Gausian,  Bernoulli, multinomial "
   ]
  },
  {
   "cell_type": "code",
   "execution_count": null,
   "metadata": {},
   "outputs": [],
   "source": []
  },
  {
   "cell_type": "code",
   "execution_count": null,
   "metadata": {},
   "outputs": [],
   "source": []
  }
 ],
 "metadata": {
  "kernelspec": {
   "display_name": "Python 3",
   "language": "python",
   "name": "python3"
  },
  "language_info": {
   "codemirror_mode": {
    "name": "ipython",
    "version": 3
   },
   "file_extension": ".py",
   "mimetype": "text/x-python",
   "name": "python",
   "nbconvert_exporter": "python",
   "pygments_lexer": "ipython3",
   "version": "3.7.6"
  }
 },
 "nbformat": 4,
 "nbformat_minor": 2
}
