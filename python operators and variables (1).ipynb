{
 "cells": [
  {
   "cell_type": "markdown",
   "id": "e63745ff",
   "metadata": {},
   "source": [
    "## Python Operators\n",
    "Operators are used to perform operations on variables and values.\n",
    "\n",
    "Python divides the operators in the following groups:\n",
    "\n",
    "* Arithmetic operators\n",
    "* Assignment operators\n",
    "* Comparison operators\n",
    "* Logical operators\n",
    "* Identity operators\n",
    "* Membership operators\n",
    "* Bitwise operators\n"
   ]
  },
  {
   "cell_type": "code",
   "execution_count": null,
   "id": "bf6f55bf",
   "metadata": {},
   "outputs": [],
   "source": [
    "### Arithmetic Operator\n",
    "a+b # addition\n",
    "a-b #subtraction\n",
    "a*b #multiplication\n",
    "a/b #division\n",
    "a//b # floor division. removes the decimal\n",
    "a**b  # exponential \n",
    "a%b # modular arithmetic. gives the remainder of the calculation"
   ]
  },
  {
   "cell_type": "code",
   "execution_count": 1,
   "id": "2d35ae8d",
   "metadata": {},
   "outputs": [
    {
     "data": {
      "text/plain": [
       "1"
      ]
     },
     "execution_count": 1,
     "metadata": {},
     "output_type": "execute_result"
    }
   ],
   "source": [
    "5%2"
   ]
  },
  {
   "cell_type": "markdown",
   "id": "89282ddd",
   "metadata": {},
   "source": [
    "### Python Assignment OperatorsAssignment operators are used to assign values to variables:\n",
    "Assignment operators are used to assign values to variables:\n",
    "Operator\n",
    " =\tx = 5\tx = 5\t\n",
    "+=\tx += 3\tx = x + 3\t\n",
    "-=\tx -= 3\tx = x - 3\t\n",
    "*=\tx *= 3\tx = x * 3\t\n",
    "/=\tx /= 3\tx = x / 3\t\n",
    "%=\tx %= 3\tx = x % 3\t\n",
    "//=\tx //= 3\tx = x // 3\t\n",
    "**=\tx **= 3\tx = x ** 3\t\n",
    "&=\tx &= 3\tx = x & 3\t\n",
    "|=\tx |= 3\tx = x | 3\t\n",
    "^=\tx ^= 3\tx = x ^ 3\t\n",
    ">>=\tx >>= 3\tx = x >> 3\t\n",
    "<<=\tx <<= 3\tx = x << 3\t\n"
   ]
  },
  {
   "cell_type": "code",
   "execution_count": null,
   "id": "6c53c43c",
   "metadata": {},
   "outputs": [],
   "source": []
  },
  {
   "cell_type": "markdown",
   "id": "118b1dc7",
   "metadata": {},
   "source": [
    "### Python Comparison Operators\n",
    "Comparison operators are used to compare two values:\n",
    "Operator\tName\tExample\t\n",
    "==\tEqual\tx == y\t\n",
    "!=\tNot equal\tx != y\t\n",
    ">\tGreater than\tx > y\t\n",
    "<\tLess than\tx < y\t\n",
    ">=\tGreater than or equal to\tx >= y\t\n",
    "<=\tLess than or equal to\tx <= y"
   ]
  },
  {
   "cell_type": "markdown",
   "id": "8b584df2",
   "metadata": {},
   "source": [
    "### Python Logical Operators\n",
    "Logical operators are used to combine conditional statements:\n",
    "\n",
    "Operator\tDescription\tExample\t\n",
    "* and \tReturns True if both statements are true\tx < 5 and  x < 10\t\n",
    "* or\tReturns True if one of the statements is true\tx < 5 or x < 4\t\n",
    "* not\tReverse the result, returns False if the result is true\tnot(x < 5 and x < 10)"
   ]
  },
  {
   "cell_type": "markdown",
   "id": "70e1657b",
   "metadata": {},
   "source": [
    "### Python Identity Operators\n",
    "Identity operators are used to compare the objects, not if they are equal, but if they are actually the same object, with the same memory location:\n",
    "\n",
    "Operator\tDescription\tExample\tTry it\n",
    "* is \tReturns True if both variables are the same object\tx is y\t\n",
    "* is not\tReturns True if both variables are not the same object\tx is not y"
   ]
  },
  {
   "cell_type": "code",
   "execution_count": null,
   "id": "528fd094",
   "metadata": {},
   "outputs": [],
   "source": []
  },
  {
   "cell_type": "markdown",
   "id": "6795e728",
   "metadata": {},
   "source": [
    "### Python Membership Operators\n",
    "Membership operators are used to test if a sequence is present in an object:\n",
    "\n",
    "Operator\tDescription\tExample\tTry it\n",
    "* in \tReturns True if a sequence with the specified value is present in the object\tx in y\t\n",
    "* not in\tReturns True if a sequence with the specified value is not present in the object"
   ]
  },
  {
   "cell_type": "markdown",
   "id": "823ee1c1",
   "metadata": {},
   "source": [
    "### Variables\n",
    "Variables are containers for storing data values.\n",
    "\n",
    "Creating Variables\n",
    "\n",
    "Python has no command for declaring a variable.\n",
    "\n",
    "A variable is created the moment you first assign a value to it."
   ]
  },
  {
   "cell_type": "code",
   "execution_count": 2,
   "id": "bbe32c29",
   "metadata": {},
   "outputs": [
    {
     "name": "stdout",
     "output_type": "stream",
     "text": [
      "John\n"
     ]
    }
   ],
   "source": [
    "# Using Variables: variables are used by assigning them to a value\n",
    "pi = 3.141\n",
    "name = \"John\"\n",
    "print(name)"
   ]
  },
  {
   "cell_type": "code",
   "execution_count": 3,
   "id": "2aa8689f",
   "metadata": {},
   "outputs": [
    {
     "name": "stdout",
     "output_type": "stream",
     "text": [
      "3.141\n"
     ]
    }
   ],
   "source": [
    "print(pi)"
   ]
  },
  {
   "cell_type": "code",
   "execution_count": 5,
   "id": "b6988eed",
   "metadata": {},
   "outputs": [
    {
     "name": "stdout",
     "output_type": "stream",
     "text": [
      "3\n"
     ]
    }
   ],
   "source": [
    "# Casting a data type to a variable\n",
    "x = str(3)    # x will be '3'\n",
    "y = int(3)    # y will be 3\n",
    "z = float(3)  # z will be 3.0\n",
    "print(x)"
   ]
  },
  {
   "cell_type": "code",
   "execution_count": null,
   "id": "d1207b19",
   "metadata": {},
   "outputs": [],
   "source": [
    "#You can get the data type of a variable with the type() function.\n",
    "#Getting the data type of a variable\n",
    "x = 5\n",
    "y = \"John\"\n",
    "print(type(x))\n",
    "print(type(y))"
   ]
  },
  {
   "cell_type": "code",
   "execution_count": null,
   "id": "aaa6b888",
   "metadata": {},
   "outputs": [],
   "source": [
    "# Use of single or double quotes on strings\n",
    "x = \"John\"\n",
    "# is the same as\n",
    "x = 'John'"
   ]
  },
  {
   "cell_type": "code",
   "execution_count": null,
   "id": "4fdf977b",
   "metadata": {},
   "outputs": [],
   "source": [
    "# Case-Sensitive\n",
    "#Variable names are case-sensitive.\n",
    "a = 4\n",
    "A = \"Sally\"\n",
    "#A will not overwrite a"
   ]
  },
  {
   "cell_type": "code",
   "execution_count": 9,
   "id": "0dc40f98",
   "metadata": {},
   "outputs": [
    {
     "name": "stdout",
     "output_type": "stream",
     "text": [
      "Orange\n",
      "Banana\n",
      "pear\n"
     ]
    }
   ],
   "source": [
    "# Many Values to Multiple Variables\n",
    "#Python allows you to assign values to multiple variables in one line:\n",
    "x, y, z = \"Orange\", \"Banana\", \"pear\"\n",
    "print(x)\n",
    "print(y)\n",
    "print(z)\n",
    "#Make sure the number of variables matches the number of values, or else you will get an error."
   ]
  },
  {
   "cell_type": "code",
   "execution_count": 10,
   "id": "633de7d6",
   "metadata": {},
   "outputs": [
    {
     "name": "stdout",
     "output_type": "stream",
     "text": [
      "Orange\n",
      "Orange\n",
      "Orange\n"
     ]
    }
   ],
   "source": [
    "#One Value to Multiple Variables\n",
    "#And you can assign the same value to multiple variables in one line:\n",
    "x = y = z = \"Orange\"\n",
    "print(x)\n",
    "print(y)\n",
    "print(z)"
   ]
  },
  {
   "cell_type": "code",
   "execution_count": 11,
   "id": "db3269b7",
   "metadata": {},
   "outputs": [
    {
     "name": "stdout",
     "output_type": "stream",
     "text": [
      "Python is awesome\n",
      "Python is awesome\n"
     ]
    }
   ],
   "source": [
    "# Output Variables\n",
    "#The Python print() function is often used to output variables.\n",
    "x = \"Python is awesome\"\n",
    "print(x)\n",
    "#In the print() function, you output multiple variables, separated by a comma:\n",
    "x = \"Python\"\n",
    "y = \"is\"\n",
    "z = \"awesome\"\n",
    "print(x, y, z)"
   ]
  },
  {
   "cell_type": "code",
   "execution_count": 12,
   "id": "10c243f3",
   "metadata": {},
   "outputs": [
    {
     "name": "stdout",
     "output_type": "stream",
     "text": [
      "Python is awesome\n"
     ]
    }
   ],
   "source": [
    "#You can also use the + operator to output multiple variables:\n",
    "x = \"Python \"\n",
    "y = \"is \"\n",
    "z = \"awesome\"\n",
    "print(x + y + z)\n",
    "#Notice the space character after \"Python \" and \"is \", without them the result would be \"Pythonisawesome\"."
   ]
  },
  {
   "cell_type": "markdown",
   "id": "3268d721",
   "metadata": {},
   "source": [
    "#In the print() function, when you try to combine a string and a number with the + operator, Python will give you an error:\n",
    "x = 5\n",
    "y = \"John\"\n",
    "print(x + y)\n",
    "The best way to output multiple variables in the print() function is to separate them with commas, which even support different data types:\n",
    "x = 5\n",
    "y = \"John\"\n",
    "print(x, y)"
   ]
  },
  {
   "cell_type": "code",
   "execution_count": null,
   "id": "af0e0ecc",
   "metadata": {},
   "outputs": [],
   "source": [
    "### Global Variables\n",
    "Variables that are created outside of a function (as in all of the examples above) are known as global variables.\n",
    "\n",
    "Global variables can be used by everyone, both inside of functions and outside."
   ]
  }
 ],
 "metadata": {
  "kernelspec": {
   "display_name": "Python 3 (ipykernel)",
   "language": "python",
   "name": "python3"
  },
  "language_info": {
   "codemirror_mode": {
    "name": "ipython",
    "version": 3
   },
   "file_extension": ".py",
   "mimetype": "text/x-python",
   "name": "python",
   "nbconvert_exporter": "python",
   "pygments_lexer": "ipython3",
   "version": "3.9.13"
  }
 },
 "nbformat": 4,
 "nbformat_minor": 5
}
