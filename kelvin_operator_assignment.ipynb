{
 "cells": [
  {
   "cell_type": "code",
   "execution_count": 32,
   "id": "8e65f8d8",
   "metadata": {},
   "outputs": [],
   "source": [
    "#create a variable for each of the following:\n",
    "A=3\n",
    "B=3.5\n",
    "C=\"King\"\n"
   ]
  },
  {
   "cell_type": "code",
   "execution_count": 26,
   "id": "2d23e0f5",
   "metadata": {},
   "outputs": [
    {
     "data": {
      "text/plain": [
       "'KingKingKing'"
      ]
     },
     "execution_count": 26,
     "metadata": {},
     "output_type": "execute_result"
    }
   ],
   "source": [
    "#multiply the string by the integer\n",
    "A*C"
   ]
  },
  {
   "cell_type": "code",
   "execution_count": 11,
   "id": "241f74c2",
   "metadata": {},
   "outputs": [
    {
     "data": {
      "text/plain": [
       "6.5"
      ]
     },
     "execution_count": 11,
     "metadata": {},
     "output_type": "execute_result"
    }
   ],
   "source": [
    "#add the integer to the float\n",
    "A+B"
   ]
  },
  {
   "cell_type": "code",
   "execution_count": 27,
   "id": "2c186026",
   "metadata": {},
   "outputs": [
    {
     "data": {
      "text/plain": [
       "3.24037034920393"
      ]
     },
     "execution_count": 27,
     "metadata": {},
     "output_type": "execute_result"
    }
   ],
   "source": [
    "#find the square root of the product of the integer\n",
    "#and the float; save it as a variable called Squ_num\n",
    "Squ_num = (A*B)**0.5\n",
    "\n",
    "Squ_num"
   ]
  },
  {
   "cell_type": "code",
   "execution_count": 28,
   "id": "5a01708e",
   "metadata": {},
   "outputs": [
    {
     "data": {
      "text/plain": [
       "34.02388866664127"
      ]
     },
     "execution_count": 28,
     "metadata": {},
     "output_type": "execute_result"
    }
   ],
   "source": [
    "#Raise the float to the third power and save the result as \n",
    "#a variable (give a name of your choice)\n",
    "power_three = (Squ_num)**3\n",
    "\n",
    "power_three"
   ]
  },
  {
   "cell_type": "code",
   "execution_count": 30,
   "id": "c530228c",
   "metadata": {},
   "outputs": [
    {
     "data": {
      "text/plain": [
       "1.6201851746019678"
      ]
     },
     "execution_count": 30,
     "metadata": {},
     "output_type": "execute_result"
    }
   ],
   "source": [
    "# What’s the remainder if the number generated in \n",
    "#IV above is divided by the number in Squ_num\n",
    "third_power%Squ_num"
   ]
  },
  {
   "cell_type": "code",
   "execution_count": null,
   "id": "57400220",
   "metadata": {},
   "outputs": [],
   "source": []
  }
 ],
 "metadata": {
  "kernelspec": {
   "display_name": "Python 3 (ipykernel)",
   "language": "python",
   "name": "python3"
  },
  "language_info": {
   "codemirror_mode": {
    "name": "ipython",
    "version": 3
   },
   "file_extension": ".py",
   "mimetype": "text/x-python",
   "name": "python",
   "nbconvert_exporter": "python",
   "pygments_lexer": "ipython3",
   "version": "3.9.13"
  }
 },
 "nbformat": 4,
 "nbformat_minor": 5
}
