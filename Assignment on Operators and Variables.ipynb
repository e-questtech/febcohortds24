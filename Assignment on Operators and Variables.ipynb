{
 "cells": [
  {
   "cell_type": "markdown",
   "id": "d83d3ba7-7810-417f-8ecf-c55054bc89e0",
   "metadata": {},
   "source": [
    "Assignment on Operators and Variables"
   ]
  },
  {
   "cell_type": "code",
   "execution_count": 1,
   "id": "2f08c874-3e0c-45ad-82b2-7830fa3aa97b",
   "metadata": {},
   "outputs": [],
   "source": [
    "A = 2\n",
    "B= 2.2\n",
    "C= \"Book\""
   ]
  },
  {
   "cell_type": "code",
   "execution_count": 3,
   "id": "77c9366e-eb4e-4150-95a5-70d986094053",
   "metadata": {},
   "outputs": [
    {
     "data": {
      "text/plain": [
       "'BookBook'"
      ]
     },
     "execution_count": 3,
     "metadata": {},
     "output_type": "execute_result"
    }
   ],
   "source": [
    "Multiply =  A*C\n",
    "Multiply"
   ]
  },
  {
   "cell_type": "code",
   "execution_count": 4,
   "id": "f709693e-867a-4029-b066-663c13be3065",
   "metadata": {},
   "outputs": [
    {
     "data": {
      "text/plain": [
       "4.2"
      ]
     },
     "execution_count": 4,
     "metadata": {},
     "output_type": "execute_result"
    }
   ],
   "source": [
    "Add= A+B\n",
    "Add\n"
   ]
  },
  {
   "cell_type": "code",
   "execution_count": 5,
   "id": "3b5560ba-3bf6-4cb7-bd62-6e9bc405b3e1",
   "metadata": {},
   "outputs": [],
   "source": [
    "import math"
   ]
  },
  {
   "cell_type": "code",
   "execution_count": 15,
   "id": "d575edd9-372c-40ac-9ef4-db12ebd9eaa0",
   "metadata": {},
   "outputs": [
    {
     "data": {
      "text/plain": [
       "2.0976176963403033"
      ]
     },
     "execution_count": 15,
     "metadata": {},
     "output_type": "execute_result"
    }
   ],
   "source": [
    "Squ_num= math.sqrt(A*B)\n",
    "Squ_num"
   ]
  },
  {
   "cell_type": "code",
   "execution_count": 17,
   "id": "d6e6a095-b275-411c-a02e-24997a23d413",
   "metadata": {},
   "outputs": [
    {
     "name": "stdout",
     "output_type": "stream",
     "text": [
      "10.648000000000003\n"
     ]
    }
   ],
   "source": [
    "CUBE= B**3\n",
    "print(CUBE)"
   ]
  },
  {
   "cell_type": "code",
   "execution_count": 19,
   "id": "23d5f5c5-e912-4e3e-9a1e-f46587d5e61d",
   "metadata": {},
   "outputs": [
    {
     "name": "stdout",
     "output_type": "stream",
     "text": [
      "0.15991151829848693\n"
     ]
    }
   ],
   "source": [
    "Remainder= CUBE%Squ_num\n",
    "print(Remainder)"
   ]
  },
  {
   "cell_type": "code",
   "execution_count": null,
   "id": "0d357a16-3d15-44a4-9483-d1d042baa754",
   "metadata": {},
   "outputs": [],
   "source": []
  }
 ],
 "metadata": {
  "kernelspec": {
   "display_name": "Python 3 (ipykernel)",
   "language": "python",
   "name": "python3"
  },
  "language_info": {
   "codemirror_mode": {
    "name": "ipython",
    "version": 3
   },
   "file_extension": ".py",
   "mimetype": "text/x-python",
   "name": "python",
   "nbconvert_exporter": "python",
   "pygments_lexer": "ipython3",
   "version": "3.10.7"
  }
 },
 "nbformat": 4,
 "nbformat_minor": 5
}
