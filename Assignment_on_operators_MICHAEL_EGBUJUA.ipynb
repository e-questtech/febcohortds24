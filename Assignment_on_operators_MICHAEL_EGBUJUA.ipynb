{
 "cells": [
  {
   "cell_type": "code",
   "execution_count": 1,
   "id": "d95ec7f4",
   "metadata": {},
   "outputs": [],
   "source": [
    "#create a variable for each of the following:\n",
    "mic = 2\n",
    "fav = 2.30\n",
    "kel = \"play\""
   ]
  },
  {
   "cell_type": "code",
   "execution_count": 2,
   "id": "46d79b0d",
   "metadata": {},
   "outputs": [
    {
     "data": {
      "text/plain": [
       "'playplay'"
      ]
     },
     "execution_count": 2,
     "metadata": {},
     "output_type": "execute_result"
    }
   ],
   "source": [
    "#multiply the string by the integer\n",
    "kel * mic"
   ]
  },
  {
   "cell_type": "code",
   "execution_count": 3,
   "id": "059028e9",
   "metadata": {},
   "outputs": [
    {
     "data": {
      "text/plain": [
       "4.3"
      ]
     },
     "execution_count": 3,
     "metadata": {},
     "output_type": "execute_result"
    }
   ],
   "source": [
    "#add the integer to the float\n",
    "mic + fav"
   ]
  },
  {
   "cell_type": "code",
   "execution_count": 5,
   "id": "69d1f202",
   "metadata": {},
   "outputs": [
    {
     "data": {
      "text/plain": [
       "2.1447610589527217"
      ]
     },
     "execution_count": 5,
     "metadata": {},
     "output_type": "execute_result"
    }
   ],
   "source": [
    "#find the square root of the product of the integer\n",
    "#and the float; save it as a variable called Squ_num\n",
    "Squ_num = (mic * fav)**0.5\n",
    "\n",
    "Squ_num"
   ]
  },
  {
   "cell_type": "code",
   "execution_count": 7,
   "id": "3e456350",
   "metadata": {},
   "outputs": [
    {
     "data": {
      "text/plain": [
       "9.86590087118252"
      ]
     },
     "execution_count": 7,
     "metadata": {},
     "output_type": "execute_result"
    }
   ],
   "source": [
    "#Raise the float to the third power and save the result as \n",
    "#a variable (give a name of your choice)\n",
    "third_power = (Squ_num)**3\n",
    "\n",
    "third_power"
   ]
  },
  {
   "cell_type": "code",
   "execution_count": 8,
   "id": "4a6d29ad",
   "metadata": {},
   "outputs": [
    {
     "data": {
      "text/plain": [
       "1.2868566353716329"
      ]
     },
     "execution_count": 8,
     "metadata": {},
     "output_type": "execute_result"
    }
   ],
   "source": [
    "# What’s the remainder if the number generated in \n",
    "#IV above is divided by the number in Squ_num\n",
    "third_power%Squ_num"
   ]
  },
  {
   "cell_type": "code",
   "execution_count": null,
   "id": "c19563a6",
   "metadata": {},
   "outputs": [],
   "source": []
  }
 ],
 "metadata": {
  "kernelspec": {
   "display_name": "Python 3",
   "language": "python",
   "name": "python3"
  },
  "language_info": {
   "codemirror_mode": {
    "name": "ipython",
    "version": 3
   },
   "file_extension": ".py",
   "mimetype": "text/x-python",
   "name": "python",
   "nbconvert_exporter": "python",
   "pygments_lexer": "ipython3",
   "version": "3.8.8"
  }
 },
 "nbformat": 4,
 "nbformat_minor": 5
}
