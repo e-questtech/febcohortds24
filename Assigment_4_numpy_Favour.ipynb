{
 "cells": [
  {
   "cell_type": "code",
   "execution_count": 5,
   "metadata": {},
   "outputs": [
    {
     "data": {
      "text/plain": [
       "(6, 5, 3)"
      ]
     },
     "execution_count": 5,
     "metadata": {},
     "output_type": "execute_result"
    }
   ],
   "source": [
    "import numpy as np\n",
    "arr_1 = np.array([[[2,3,2],[3,4,5],[2,4,3],[4,4,3],[4,5,6]],\n",
    "                  [[2,3,2],[3,4,5],[2,4,3],[4,4,3],[4,5,6]],\n",
    "                  [[2,3,2],[3,4,5],[2,4,3],[4,4,3],[4,5,6]],\n",
    "                  [[2,3,2],[3,4,5],[2,4,3],[4,4,3],[4,5,6]],\n",
    "                  [[2,3,2],[3,4,5],[2,4,3],[4,4,3],[4,5,6]],\n",
    "                  [[2,3,2],[3,4,5],[2,4,3],[4,4,3],[4,5,6]]])\n",
    "arr_1.shape"
   ]
  },
  {
   "cell_type": "code",
   "execution_count": 6,
   "metadata": {},
   "outputs": [
    {
     "data": {
      "text/plain": [
       "(1,)"
      ]
     },
     "execution_count": 6,
     "metadata": {},
     "output_type": "execute_result"
    }
   ],
   "source": [
    "arr_2= np.array([1])\n",
    "arr_2.shape"
   ]
  },
  {
   "cell_type": "code",
   "execution_count": 7,
   "metadata": {},
   "outputs": [
    {
     "data": {
      "text/plain": [
       "(1, 2, 1, 2)"
      ]
     },
     "execution_count": 7,
     "metadata": {},
     "output_type": "execute_result"
    }
   ],
   "source": [
    "arr_3= np.array([[[[1,2]],[[1,2]]]])\n",
    "arr_3.shape"
   ]
  },
  {
   "cell_type": "code",
   "execution_count": 12,
   "metadata": {},
   "outputs": [
    {
     "name": "stdout",
     "output_type": "stream",
     "text": [
      "Your score is 30.0 %, You scored an F. \n"
     ]
    }
   ],
   "source": [
    "score = float(input(\"Enter  your score: \"))\n",
    "if score >=70 and score<=100:\n",
    "    print (f\"Your score is {score} %, You scored an A. \")\n",
    "elif score >=61 and score<=69:\n",
    "    print (f\"Your score is {score} %, You scored an B. \")\n",
    "elif score >=51 and score<=59:\n",
    "    print (f\"Your score is {score} %, You scored an C. \")\n",
    "elif score >=45 and score<=49:\n",
    "    print (f\"Your score is {score} %, You scored an D. \")\n",
    "elif score >=40 and score<=44:\n",
    "    print (f\"Your score is {score} %, You scored an E. \")\n",
    "elif score >=0 and score<=39:\n",
    "    print (f\"Your score is {score} %, You scored an F. \")\n",
    "else:\n",
    "    print(\"Enter a valid score\")\n",
    "    \n",
    "    \n",
    "    \n",
    "    \n",
    "    "
   ]
  },
  {
   "cell_type": "code",
   "execution_count": null,
   "metadata": {},
   "outputs": [],
   "source": []
  }
 ],
 "metadata": {
  "kernelspec": {
   "display_name": "Python 3",
   "language": "python",
   "name": "python3"
  },
  "language_info": {
   "codemirror_mode": {
    "name": "ipython",
    "version": 3
   },
   "file_extension": ".py",
   "mimetype": "text/x-python",
   "name": "python",
   "nbconvert_exporter": "python",
   "pygments_lexer": "ipython3",
   "version": "3.10.7"
  }
 },
 "nbformat": 4,
 "nbformat_minor": 2
}
