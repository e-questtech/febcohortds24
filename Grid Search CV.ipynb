{
 "cells": [
  {
   "cell_type": "markdown",
   "metadata": {},
   "source": [
    "# GridSearchCV & Hyperparameter Tuning"
   ]
  },
  {
   "cell_type": "markdown",
   "metadata": {},
   "source": [
    "GridSearchCV in Scikit-Learn is a vital tool for hyperparameter tuning, performing an exhaustive search over specified parameter values for an estimator.\n",
    "It helps data scientists efficiently find the best hyperparameters, saving time and resources while optimizing model performance, making it an essential tool in the machine learning pipeline.\n",
    "Hyperparameters are parameters of an algoritghm defined by the user that control the model training process."
   ]
  },
  {
   "cell_type": "markdown",
   "metadata": {},
   "source": [
    "## Parameters of GridSearchCV"
   ]
  },
  {
   "cell_type": "markdown",
   "metadata": {},
   "source": [
    "<b>Estimator</b>: this is the model or pipeline to be optimized. Examples are GaussianNB(), LogisticRegression() etc.\n",
    "\n",
    "<b>param_grid</b>: A dictionary or list of dictionaries with parameter names (as strings) as keys and lists of parameter settings to try as values. Using param_grid, you can specify the hyperparameters for various models to find the optimal combination."
   ]
  },
  {
   "cell_type": "markdown",
   "metadata": {},
   "source": [
    "Examples of various models hyperparameters for the param_grid parameter.\n",
    "\n",
    "<b> Logistic Regression</b>: When tuning a logistic regression model, GridSearchCV can search through different values of C, penalty, and solver to find the best parameters.\n"
   ]
  },
  {
   "cell_type": "code",
   "execution_count": 2,
   "metadata": {},
   "outputs": [],
   "source": [
    "parameters = {'C': [0.01, 0.1, 1],\n",
    "              'penalty': ['l2'],\n",
    "              'solver': ['lbfgs']}"
   ]
  },
  {
   "cell_type": "markdown",
   "metadata": {},
   "source": [
    "* C: Inverse of regularization strength; smaller values specify stronger regularization. Regularization is a technique used to prevent a model from overfitting.\n",
    "* penalty: Specifies the norm of the penalty; 'l2' is ridge regression.\n",
    "* solver: Algorithm to use in the optimization problem."
   ]
  },
  {
   "cell_type": "markdown",
   "metadata": {},
   "source": [
    "<b>Support Vector Machine</b>: For SVM, GridSearchCV can explore different kernels, C values, and gamma settings to optimize the model.\n"
   ]
  },
  {
   "cell_type": "code",
   "execution_count": 4,
   "metadata": {},
   "outputs": [],
   "source": [
    "import numpy as np\n",
    "parameters = {'kernel': ['linear', 'rbf', 'poly', 'sigmoid'],\n",
    "              'C': np.logspace(-3, 3, 5),\n",
    "              'gamma': np.logspace(-3, 3, 5)}\n"
   ]
  },
  {
   "cell_type": "markdown",
   "metadata": {},
   "source": [
    "* kernel: Specifies the kernel type to be used in the algorithm.\n",
    "* C: Regularization parameter.\n",
    "* gamma: Kernel coefficient."
   ]
  },
  {
   "cell_type": "markdown",
   "metadata": {},
   "source": [
    "<b>Decision Tree Classifier</b>: In the case of a decision tree, GridSearchCV can test various criteria, splitters, depths, and other parameters to find the best configuration.\n"
   ]
  },
  {
   "cell_type": "code",
   "execution_count": 6,
   "metadata": {},
   "outputs": [],
   "source": [
    "parameters = {'criterion': ['gini', 'entropy'],\n",
    "              'splitter': ['best', 'random'],\n",
    "              'max_depth': [2*n for n in range(1, 10)],\n",
    "              'max_features': ['auto', 'sqrt'],\n",
    "              'min_samples_leaf': [1, 2, 4],\n",
    "              'min_samples_split': [2, 5, 10]}"
   ]
  },
  {
   "cell_type": "markdown",
   "metadata": {},
   "source": [
    "* criterion: The function to measure the quality of a split.\n",
    "* splitter: The strategy used to choose the split at each node.\n",
    "* max_depth: The maximum depth of the tree.\n",
    "* max_features: The number of features to consider when looking for the best split.\n",
    "* min_samples_leaf: The minimum number of samples required to be at a leaf node.\n",
    "* min_samples_split: The minimum number of samples required to split an internal node."
   ]
  },
  {
   "cell_type": "markdown",
   "metadata": {},
   "source": [
    "K-Nearest Neighbors: For KNN, GridSearchCV can try different numbers of neighbors, algorithms, and power parameters to determine the best model.\n"
   ]
  },
  {
   "cell_type": "code",
   "execution_count": 9,
   "metadata": {},
   "outputs": [],
   "source": [
    "parameters = {'n_neighbors': [1, 2, 3, 4, 5, 6, 7, 8, 9, 10],\n",
    "              'algorithm': ['auto', 'ball_tree', 'kd_tree', 'brute'],\n",
    "              'p': [1, 2]}"
   ]
  },
  {
   "cell_type": "markdown",
   "metadata": {},
   "source": [
    "* n_neighbors: Number of neighbors to use.\n",
    "* algorithm: Algorithm used to compute the nearest neighbors.\n",
    "* p: Power parameter for the Minkowski metric."
   ]
  },
  {
   "cell_type": "markdown",
   "metadata": {},
   "source": [
    "* <b>scoring</b>: A single string or callable to evaluate the predictions on the test set. Common options include accuracy, f1, roc_auc, etc. If none, the estimator's default scorer is used.\n"
   ]
  },
  {
   "cell_type": "markdown",
   "metadata": {},
   "source": [
    "* <b>n_jobs</b>: The number of jobs to run in parallel. -1 means using all processors."
   ]
  },
  {
   "cell_type": "markdown",
   "metadata": {},
   "source": [
    "* <b>pre_dispatch</b>: Controls the number of jobs that get dispatched during parallel execution. It can be an integer or expressions like 2n_jobs, 3n_jobs, etc., to limit the number of jobs dispatched at once."
   ]
  },
  {
   "cell_type": "markdown",
   "metadata": {},
   "source": [
    "* <b>refit</b>: If True, refits the best estimator with the entire dataset. The best estimator is stored in the best_estimator_ attribute. Default is True."
   ]
  },
  {
   "cell_type": "markdown",
   "metadata": {},
   "source": [
    "* <b>cv</b>: Determines the cross-validation splitting strategy. It can be an integer to specify the number of folds, a cross-validation generator, or an iterable. Default is 5-fold cross-validation.\n"
   ]
  },
  {
   "cell_type": "markdown",
   "metadata": {},
   "source": [
    "* <b>verbose</b>: Controls the verbosity level. Higher values indicate more messages. verbose=0 is silent, verbose=1 shows some messages, and verbose=2 shows more messages."
   ]
  },
  {
   "cell_type": "markdown",
   "metadata": {},
   "source": [
    "* <b>return_train_score</b>: If False, the cv_results_ attribute will not include training scores. Default is False.\n"
   ]
  },
  {
   "cell_type": "markdown",
   "metadata": {},
   "source": [
    "* <b>error_score</b>: Value to assign to the score if an error occurs in estimator fitting. np.nan is the default, but it can be set to a specific value."
   ]
  },
  {
   "cell_type": "markdown",
   "metadata": {},
   "source": [
    "## Applications and Advantages of GridSearchCV"
   ]
  },
  {
   "cell_type": "markdown",
   "metadata": {},
   "source": [
    "\n",
    "* Model Selection: GridSearchCV enables the comparison of multiple models and facilitates the selection of the best-performing one for a given data set.\n",
    "\n",
    "* Hyperparameter Tuning: It automates the process of finding the optimal hyperparameters, which can significantly improve the performance of machine learning models.\n",
    "\n",
    "* Pipeline Optimization: GridSearchCV can be applied to complex pipelines involving multiple preprocessing steps and models to optimize the entire workflow.\n",
    "\n",
    "* Cross-Validation: It incorporates cross-validation in the parameter search process, ensuring that the model's performance is robust and not overfitted to a particular train-test split.\n",
    "\n",
    "* Exhaustive Search: GridSearchCV performs an exhaustive search over the specified parameter grid, ensuring that the best combination of parameters is found.\n",
    "\n",
    "* Parallel Execution: With the n_jobs parameter, it can leverage multiple processors to speed up the search process.\n",
    "\n",
    "* Automatic Refit: By setting refit=True, GridSearchCV automatically refits the model with the best parameters on the entire data set, making it ready for use.\n",
    "\n",
    "* Detailed Output: The cv_results_ attribute provides detailed information about the performance of each parameter combination, including training and validation scores, which helps in understanding the model's behavior."
   ]
  },
  {
   "cell_type": "code",
   "execution_count": null,
   "metadata": {},
   "outputs": [],
   "source": []
  }
 ],
 "metadata": {
  "kernelspec": {
   "display_name": "Python 3",
   "language": "python",
   "name": "python3"
  },
  "language_info": {
   "codemirror_mode": {
    "name": "ipython",
    "version": 3
   },
   "file_extension": ".py",
   "mimetype": "text/x-python",
   "name": "python",
   "nbconvert_exporter": "python",
   "pygments_lexer": "ipython3",
   "version": "3.7.6"
  }
 },
 "nbformat": 4,
 "nbformat_minor": 2
}
