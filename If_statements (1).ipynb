{
 "cells": [
  {
   "cell_type": "markdown",
   "metadata": {},
   "source": [
    "## Conditional statements in python\n",
    "There are 3 conditional statements used in python\n",
    "\n",
    "if\n",
    "elif\n",
    "else\n",
    "\n",
    "Python supports the usual logical conditions from mathematics:\n",
    "\n",
    "Equals: a == b\n",
    "Not Equals: a != b\n",
    "Less than: a < b\n",
    "Less than or equal to: a <= b\n",
    "Greater than: a > b\n",
    "Greater than or equal to: a >= b\n",
    "These conditions can be used in several ways, most commonly in \"if statements\" and loops.\n",
    "The goal of a conditional statement is to checkif it's True or False\n",
    "\n",
    "An \"if statement\" is written by using the if keyword"
   ]
  },
  {
   "cell_type": "code",
   "execution_count": 1,
   "metadata": {},
   "outputs": [
    {
     "name": "stdout",
     "output_type": "stream",
     "text": [
      "That's True!\n"
     ]
    }
   ],
   "source": [
    "if 5 > 1:\n",
    "    print(\"That's True!\")"
   ]
  },
  {
   "cell_type": "code",
   "execution_count": 2,
   "metadata": {},
   "outputs": [
    {
     "name": "stdout",
     "output_type": "stream",
     "text": [
      "Above twenty,\n",
      "and also above thirty\n"
     ]
    }
   ],
   "source": [
    "# For more complex operations, you can create nested if statements\n",
    "\n",
    "x = 35\n",
    "\n",
    "if x > 20:\n",
    "    print(\"Above twenty,\")\n",
    "    if x > 30:\n",
    "        print(\"and also above thirty\")\n",
    "        "
   ]
  },
  {
   "cell_type": "markdown",
   "metadata": {},
   "source": [
    "## Elif\n",
    "The elif keyword is Python's way of saying \"if the previous conditions were not true, then try this condition\".\n"
   ]
  },
  {
   "cell_type": "code",
   "execution_count": 3,
   "metadata": {},
   "outputs": [
    {
     "name": "stdout",
     "output_type": "stream",
     "text": [
      "a and b are equal\n"
     ]
    }
   ],
   "source": [
    "a = 33\n",
    "b = 33\n",
    "if b > a:\n",
    "  print(\"b is greater than a\")\n",
    "elif a == b:\n",
    "  print(\"a and b are equal\")\n"
   ]
  },
  {
   "cell_type": "markdown",
   "metadata": {},
   "source": [
    "## Else Statement\n",
    "The else keyword catches anything which isn't caught by the preceding conditions."
   ]
  },
  {
   "cell_type": "code",
   "execution_count": 4,
   "metadata": {},
   "outputs": [
    {
     "name": "stdout",
     "output_type": "stream",
     "text": [
      "enter your marks: 35\n",
      "You are eligible\n"
     ]
    }
   ],
   "source": [
    "minmarks = 30\n",
    "studentmarks = float(input(\"enter your marks: \"))\n",
    "\n",
    "if studentmarks >= minmarks:\n",
    "    print(\"You are eligible\")\n",
    "elif studentmarks >= 25:\n",
    "    print(\"You have been put on a waiting list\")\n",
    "else:\n",
    "    print(\"You are not eligible\")"
   ]
  },
  {
   "cell_type": "code",
   "execution_count": null,
   "metadata": {},
   "outputs": [],
   "source": [
    "#One line if else statement:\n",
    "\n",
    "a = 2\n",
    "b = 330\n",
    "print(\"A\") if a > b else print(\"B\")"
   ]
  },
  {
   "cell_type": "code",
   "execution_count": null,
   "metadata": {},
   "outputs": [],
   "source": [
    "# The \"and\" keyword is a logical operator, and is used to combine conditional statements:\n",
    "\n",
    "#Test if a is greater than b, AND if c is greater than a:\n",
    "\n",
    "a = 200\n",
    "b = 33\n",
    "c = 500\n",
    "if a > b and c > a:\n",
    "  print(\"Both conditions are True\")\n"
   ]
  },
  {
   "cell_type": "code",
   "execution_count": null,
   "metadata": {},
   "outputs": [],
   "source": [
    "#The \"or\" keyword is a logical operator, and is used to combine conditional statements:\n",
    "\n",
    "#Test if a is greater than b, OR if a is greater than c:\n",
    "\n",
    "a = 200\n",
    "b = 33\n",
    "c = 500\n",
    "if a > b or a > c:\n",
    "  print(\"At least one of the conditions is True\")\n"
   ]
  },
  {
   "cell_type": "code",
   "execution_count": null,
   "metadata": {},
   "outputs": [],
   "source": [
    "#The 'not' keyword is a logical operator, and is used to reverse the result of the conditional statement:\n",
    "#Test if a is NOT greater than b:\n",
    "\n",
    "a = 33\n",
    "b = 200\n",
    "if not a > b:\n",
    "  print(\"a is NOT greater than b\")"
   ]
  },
  {
   "cell_type": "code",
   "execution_count": null,
   "metadata": {},
   "outputs": [],
   "source": [
    "#You can have if statements inside if statements, this is called nested if statements.\n",
    "x = 41\n",
    "\n",
    "if x > 10:\n",
    "  print(\"Above ten,\")\n",
    "  if x > 20:\n",
    "    print(\"and also above 20!\")\n",
    "  else:\n",
    "    print(\"but not above 20.\")"
   ]
  },
  {
   "cell_type": "markdown",
   "metadata": {},
   "source": [
    "## The pass Statement\n",
    "if statements cannot be empty, but if you for some reason have an if statement with no content, put in the pass statement to avoid getting an error.\n"
   ]
  },
  {
   "cell_type": "code",
   "execution_count": null,
   "metadata": {},
   "outputs": [],
   "source": [
    "a = 33\n",
    "b = 200\n",
    "\n",
    "if b > a:\n",
    "  pass"
   ]
  },
  {
   "cell_type": "markdown",
   "metadata": {},
   "source": [
    "### Practice Questions\n",
    "* Write a python program that checks if a given number is even or odd and prints an appropriate message\n",
    "* Create a program that asks the user for their age and and determines if they are eligible to vote(18 years or older) or not.\n",
    "* Develop a program that checks if a given year is a leap year or not.\n",
    "* Create a python script that calculates the grade for a student based on their test score using the following grading scale\n",
    "    A: 90-100\n",
    "    B: 80-89\n",
    "    C: 70-79\n",
    "    D: 60-69\n",
    "    F: Below 60\n",
    "* Create a program that checks if a user-inputted character is a vowel or a consonant\n",
    "* Write a python script that calculates the cost of a meal at a restaurant, including tax and tip. Ask the user for the meal cost, tax rate and tip percentage\n",
    "* Create a simple guessing game where the computer generates a random number between 1 and 100, and the user has to guess the number"
   ]
  },
  {
   "cell_type": "code",
   "execution_count": null,
   "metadata": {},
   "outputs": [],
   "source": [
    "year = int(input('enter leap year: ' ))\n",
    "\n",
    "if (year % 4 == 0 and year % 100 != 0) or year % 400 == 0:\n",
    "    print('Its a leap year')\n",
    "else:\n",
    "    print('Its not a leap year')"
   ]
  },
  {
   "cell_type": "code",
   "execution_count": null,
   "metadata": {},
   "outputs": [],
   "source": []
  },
  {
   "cell_type": "code",
   "execution_count": null,
   "metadata": {},
   "outputs": [],
   "source": []
  }
 ],
 "metadata": {
  "kernelspec": {
   "display_name": "Python 3",
   "language": "python",
   "name": "python3"
  },
  "language_info": {
   "codemirror_mode": {
    "name": "ipython",
    "version": 3
   },
   "file_extension": ".py",
   "mimetype": "text/x-python",
   "name": "python",
   "nbconvert_exporter": "python",
   "pygments_lexer": "ipython3",
   "version": "3.7.6"
  }
 },
 "nbformat": 4,
 "nbformat_minor": 5
}
