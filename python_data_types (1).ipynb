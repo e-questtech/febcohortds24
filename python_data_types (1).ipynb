{
 "cells": [
  {
   "cell_type": "markdown",
   "metadata": {},
   "source": [
    "## Built-in Data Types\n",
    "\n",
    "In programming, data type is an important concept.\n",
    "\n",
    "Variables can store data of different types, and different types can do different things.\n",
    "\n",
    "Python has the following data types built-in by default, in these categories:\n",
    "* Text Type:\tstr\n",
    "* Numeric Types:\tint, float, complex\n",
    "* Sequence Types:\tlist, tuple, range\n",
    "* Mapping Type:\tdict\n",
    "* Set Types:\tset, frozenset\n",
    "* Boolean Type:\tbool"
   ]
  },
  {
   "cell_type": "markdown",
   "metadata": {},
   "source": [
    "However, the basic data types commonly used in python are known as Primitive data types. They are:\n",
    "\n",
    "* Strings\n",
    "* Integers\n",
    "* Floats\n",
    "* Boolean\n",
    "* Lists\n",
    "* Dictionaries\n",
    "* Tuple\n",
    "* Sets"
   ]
  },
  {
   "cell_type": "markdown",
   "metadata": {},
   "source": [
    "### Getting the Data Type\n",
    "You can get the data type of any object by using the type() function:\n"
   ]
  },
  {
   "cell_type": "code",
   "execution_count": null,
   "metadata": {},
   "outputs": [],
   "source": [
    "# DataType Output: str\n",
    "x = \"Hello World\"\n",
    " \n",
    "# DataType Output: int\n",
    "x = 50\n",
    " \n",
    "# DataType Output: float\n",
    "x = 60.5\n",
    " \n",
    "# DataType Output: complex\n",
    "x = 3j\n",
    " \n",
    "# DataType Output: list\n",
    "x = [\"geeks\", \"for\", \"geeks\"]\n",
    " \n",
    "# DataType Output: tuple\n",
    "x = (\"geeks\", \"for\", \"geeks\")\n",
    " \n",
    "# DataType Output: range\n",
    "x = range(10)\n",
    " \n",
    "# DataType Output: dict\n",
    "x = {\"name\": \"Suraj\", \"age\": 24}\n",
    " \n",
    "# DataType Output: set\n",
    "x = {\"geeks\", \"for\", \"geeks\"}\n",
    " \n",
    "# DataType Output: frozenset\n",
    "x = frozenset({\"geeks\", \"for\", \"geeks\"})"
   ]
  },
  {
   "cell_type": "code",
   "execution_count": null,
   "metadata": {},
   "outputs": [],
   "source": [
    "# changing Data Types\n",
    "number = 12\n",
    "print(type(number))"
   ]
  },
  {
   "cell_type": "code",
   "execution_count": null,
   "metadata": {},
   "outputs": [],
   "source": [
    "number = str(number)\n",
    "print(type(number))"
   ]
  },
  {
   "cell_type": "code",
   "execution_count": null,
   "metadata": {},
   "outputs": [],
   "source": [
    "number = float(number)\n",
    "print(type(number), number)"
   ]
  },
  {
   "cell_type": "code",
   "execution_count": null,
   "metadata": {},
   "outputs": [],
   "source": [
    "#User input\n",
    "age = input(\"enter your age: \")\n",
    "print(age)"
   ]
  },
  {
   "cell_type": "code",
   "execution_count": null,
   "metadata": {},
   "outputs": [],
   "source": [
    "print(' you are '+ str(age) +'  years old')"
   ]
  },
  {
   "cell_type": "markdown",
   "metadata": {},
   "source": [
    "## Python Numbers\n",
    "There are three numeric types in Python:\n",
    "\n",
    "* int\n",
    "* float\n",
    "* complex\n"
   ]
  },
  {
   "cell_type": "code",
   "execution_count": null,
   "metadata": {},
   "outputs": [],
   "source": [
    "#Variables of numeric types are created when you assign a value to them:\n",
    "x = 1    # int\n",
    "y = 2.8  # float\n",
    "z = 1j   # complex"
   ]
  },
  {
   "cell_type": "code",
   "execution_count": null,
   "metadata": {},
   "outputs": [],
   "source": [
    "#To verify the type of any object in Python, use the type() function:\n",
    "print(type(x))\n",
    "print(type(y))\n",
    "print(type(z))\n"
   ]
  },
  {
   "cell_type": "markdown",
   "metadata": {},
   "source": [
    "### Strings\n",
    "Strings in python are surrounded by either single quotation marks, or double quotation marks.\n",
    "\n",
    "'hello' is the same as \"hello\".\n",
    "\n",
    "You can display a string literal with the print() function:"
   ]
  },
  {
   "cell_type": "code",
   "execution_count": null,
   "metadata": {},
   "outputs": [],
   "source": [
    "print('Hello World')"
   ]
  },
  {
   "cell_type": "markdown",
   "metadata": {},
   "source": [
    "### Slicing\n",
    "You can return a range of characters by using the slice syntax.\n",
    "\n",
    "Specify the start index and the end index, separated by a colon, to return a part of the string."
   ]
  },
  {
   "cell_type": "code",
   "execution_count": null,
   "metadata": {},
   "outputs": [],
   "source": [
    "#Get the characters from position 2 to position 5 (not included):\n",
    "\n",
    "b = \"Hello, World!\"\n",
    "print(b[2:9])"
   ]
  },
  {
   "cell_type": "code",
   "execution_count": null,
   "metadata": {},
   "outputs": [],
   "source": [
    "#Get the characters from the start to position 5 (not included):\n",
    "\n",
    "b = \"Hello, World!\"\n",
    "print(b[:5])"
   ]
  },
  {
   "cell_type": "code",
   "execution_count": null,
   "metadata": {},
   "outputs": [],
   "source": [
    "#Get the characters from position 2, and all the way to the end:\n",
    "\n",
    "b = \"Hello, World!\"\n",
    "print(b[4:])\n"
   ]
  },
  {
   "cell_type": "code",
   "execution_count": 4,
   "metadata": {},
   "outputs": [
    {
     "name": "stdout",
     "output_type": "stream",
     "text": [
      "Hlo ol!\n"
     ]
    }
   ],
   "source": [
    "# Get the characters from intermitent positions \n",
    "\n",
    "b = \"Hello, World!\"\n",
    "print(b[::2])"
   ]
  },
  {
   "cell_type": "code",
   "execution_count": null,
   "metadata": {},
   "outputs": [],
   "source": [
    "#Python - Modify Strings\n",
    "#The upper() method returns the string in upper case:\n",
    "\n",
    "a = \"Hello, World!\"\n",
    "print(a.upper())\n"
   ]
  },
  {
   "cell_type": "code",
   "execution_count": null,
   "metadata": {},
   "outputs": [],
   "source": [
    "#The lower() method returns the string in lower case:\n",
    "\n",
    "a = \"Hello, World!\"\n",
    "print(a.lower())"
   ]
  },
  {
   "cell_type": "code",
   "execution_count": null,
   "metadata": {},
   "outputs": [],
   "source": [
    "#The replace() method replaces a string with another string:\n",
    "\n",
    "a = \"Hello, World!\"\n",
    "print(a.replace(\"H\", \"Y\"))"
   ]
  },
  {
   "cell_type": "code",
   "execution_count": null,
   "metadata": {},
   "outputs": [],
   "source": [
    "#The split() method splits the string into substrings if it finds instances of the specified separator:\n",
    "\n",
    "a = \"Hello, World!\"\n",
    "print(a.split(\",\")) # returns ['Hello', ' World!']\n"
   ]
  },
  {
   "cell_type": "code",
   "execution_count": null,
   "metadata": {},
   "outputs": [],
   "source": [
    "#String Concatenation\n",
    "#To concatenate, or combine, two strings you can use the + operator.\n",
    "#Merge variable a with variable b into variable c:\n",
    "\n",
    "a = \"Hello\"\n",
    "b = \"World\"\n",
    "c = a + b\n",
    "print(c)"
   ]
  },
  {
   "cell_type": "code",
   "execution_count": null,
   "metadata": {},
   "outputs": [],
   "source": [
    "#To add a space between them, add a \" \":\n",
    "\n",
    "a = \"Hello\"\n",
    "b = \"World\"\n",
    "c = a + \" \" + b\n",
    "print(c)"
   ]
  },
  {
   "cell_type": "markdown",
   "metadata": {},
   "source": [
    "### String Format\n"
   ]
  },
  {
   "cell_type": "code",
   "execution_count": null,
   "metadata": {},
   "outputs": [],
   "source": [
    "#As we learned in the Python Variables chapter, we cannot combine strings and numbers like this:\n",
    "age = 36\n",
    "txt = \"My name is John, I am \" + age\n",
    "print(txt)"
   ]
  },
  {
   "cell_type": "code",
   "execution_count": 5,
   "metadata": {},
   "outputs": [
    {
     "name": "stdout",
     "output_type": "stream",
     "text": [
      "My name is John, and I am 36 years old\n"
     ]
    }
   ],
   "source": [
    "#The format() method takes the passed arguments, formats them, and places them in the string where the placeholders {} are:\n",
    "age = 36\n",
    "txt = \"My name is John, and I am {} years old\"\n",
    "print(txt.format(age))\n"
   ]
  },
  {
   "cell_type": "code",
   "execution_count": null,
   "metadata": {},
   "outputs": [],
   "source": [
    "#The format() method takes unlimited number of arguments, and are placed into the respective placeholders:\n",
    "quantity = 3\n",
    "itemno = 567\n",
    "price = 49.95\n",
    "myorder = \"I want {} pieces of item {} for {} dollars.\"\n",
    "print(myorder.format(quantity, itemno, price))\n",
    "\n"
   ]
  },
  {
   "cell_type": "markdown",
   "metadata": {},
   "source": [
    "## Python Booleans\n",
    "Booleans represent one of two values: True or False.\n"
   ]
  },
  {
   "cell_type": "code",
   "execution_count": null,
   "metadata": {},
   "outputs": [],
   "source": [
    "#When you compare two values, the expression is evaluated and Python returns the Boolean answer:\n",
    "\n",
    "print(10 > 9)\n",
    "print(10 == 9)\n",
    "print(10 < 9)"
   ]
  },
  {
   "cell_type": "code",
   "execution_count": null,
   "metadata": {},
   "outputs": [],
   "source": [
    "#When you run a condition in an if statement, Python returns True or False:\n",
    "#Print a message based on whether the condition is True or False:\n",
    "\n",
    "a = 200\n",
    "b = 33\n",
    "\n",
    "if b > a:\n",
    "  print(\"b is greater than a\")\n",
    "else:\n",
    "  print(\"b is not greater than a\")"
   ]
  },
  {
   "cell_type": "code",
   "execution_count": null,
   "metadata": {},
   "outputs": [],
   "source": [
    "#The bool() function allows you to evaluate any value, and give you True or False in return,\n",
    "#Evaluate a string and a number:\n",
    "\n",
    "print(bool(\"Hello\"))\n",
    "print(bool(15))"
   ]
  },
  {
   "cell_type": "code",
   "execution_count": null,
   "metadata": {},
   "outputs": [],
   "source": [
    "#Evaluate two variables:\n",
    "\n",
    "x = \"Hello\"\n",
    "y = 15\n",
    "\n",
    "print(bool(x))\n",
    "print(bool(y))"
   ]
  },
  {
   "cell_type": "markdown",
   "metadata": {},
   "source": [
    "## Python Lists\n",
    "Lists are used to store multiple items in a single variable.\n",
    "Lists are created using square brackets[]:"
   ]
  },
  {
   "cell_type": "code",
   "execution_count": null,
   "metadata": {},
   "outputs": [],
   "source": [
    "#Create a List:\n",
    "\n",
    "mylist = [\"apple\", \"banana\", \"cherry\"]\n",
    "print(mylist)\n"
   ]
  },
  {
   "cell_type": "markdown",
   "metadata": {},
   "source": [
    "### List Items\n",
    "* List items are ordered, changeable, and allow duplicate values.\n",
    "\n",
    "* List items are indexed, the first item has index [0], the second item has index [1] etc.\n",
    "* When we say that lists are ordered, it means that the items have a defined order, and that order will not change.\n",
    "\n",
    "* If you add new items to a list, the new items will be placed at the end of the list.\n",
    "\n",
    "* The list is changeable, meaning that we can modify, add, and remove items in a list after it has been created.\n",
    "\n"
   ]
  },
  {
   "cell_type": "code",
   "execution_count": 7,
   "metadata": {},
   "outputs": [
    {
     "name": "stdout",
     "output_type": "stream",
     "text": [
      "5\n"
     ]
    }
   ],
   "source": [
    "#Since lists are indexed, lists can have items with the same value:\n",
    "#Lists allow duplicate values:\n",
    "\n",
    "mylist = [\"apple\", \"banana\", \"cherry\", \"apple\", \"cherry\"]\n",
    "print(mylist)"
   ]
  },
  {
   "cell_type": "code",
   "execution_count": 6,
   "metadata": {},
   "outputs": [
    {
     "name": "stdout",
     "output_type": "stream",
     "text": [
      "3\n"
     ]
    }
   ],
   "source": [
    "# To determine how many items a list has, use the len() function:\n",
    "mylist = [\"apple\", \"banana\", \"cherry\"]\n",
    "print(len(mylist))"
   ]
  },
  {
   "cell_type": "code",
   "execution_count": null,
   "metadata": {},
   "outputs": [],
   "source": [
    "#List items can be of any data type:\n",
    "#String, int and boolean data types:\n",
    "\n",
    "list1 = [\"apple\", \"banana\", \"cherry\"]\n",
    "list2 = [1, 5, 7, 9, 3]\n",
    "list3 = [True, False, False]"
   ]
  },
  {
   "cell_type": "code",
   "execution_count": null,
   "metadata": {},
   "outputs": [],
   "source": [
    "#A list with strings, integers and boolean values:\n",
    "\n",
    "list1 = [\"abc\", 34, True, 40, \"male\"]"
   ]
  },
  {
   "cell_type": "code",
   "execution_count": 8,
   "metadata": {},
   "outputs": [
    {
     "name": "stdout",
     "output_type": "stream",
     "text": [
      "<class 'list'>\n"
     ]
    }
   ],
   "source": [
    "#What is the data type of a list?\n",
    "\n",
    "mylist = [\"apple\", \"banana\", \"cherry\"]\n",
    "print(type(mylist))"
   ]
  },
  {
   "cell_type": "code",
   "execution_count": 9,
   "metadata": {},
   "outputs": [
    {
     "name": "stdout",
     "output_type": "stream",
     "text": [
      "['apple', 'banana', 'cherry']\n"
     ]
    }
   ],
   "source": [
    "#Using the list() constructor to make a List:\n",
    "\n",
    "mylist = list((\"apple\", \"banana\", \"cherry\")) # note the double round-brackets\n",
    "print(mylist)\n"
   ]
  },
  {
   "cell_type": "code",
   "execution_count": 11,
   "metadata": {},
   "outputs": [
    {
     "name": "stdout",
     "output_type": "stream",
     "text": [
      "apple\n"
     ]
    }
   ],
   "source": [
    "#List items are indexed and you can access them by referring to the index number:\n",
    "\n",
    "#Print the second item of the list:\n",
    "\n",
    "mylist = [\"apple\", \"banana\", \"cherry\"]\n",
    "print(mylist[0])"
   ]
  },
  {
   "cell_type": "code",
   "execution_count": 12,
   "metadata": {},
   "outputs": [
    {
     "name": "stdout",
     "output_type": "stream",
     "text": [
      "cherry\n"
     ]
    }
   ],
   "source": [
    "#Negative Indexing\n",
    "#Negative indexing means start from the end\n",
    "\n",
    "#-1 refers to the last item, -2 refers to the second last item etc.\n",
    "#Print the last item of the list:\n",
    "\n",
    "mylist = [\"apple\", \"banana\", \"cherry\"]\n",
    "print(mylist[-1])"
   ]
  },
  {
   "cell_type": "code",
   "execution_count": 14,
   "metadata": {},
   "outputs": [
    {
     "name": "stdout",
     "output_type": "stream",
     "text": [
      "['banana', 'cherry', 'orange']\n"
     ]
    }
   ],
   "source": [
    "#Range of Indexes\n",
    "#You can specify a range of indexes by specifying where to start and where to end the range.\n",
    "#When specifying a range, the return value will be a new list with the specified items.\n",
    "#Return the third, fourth, and fifth item:\n",
    "\n",
    "mylist = [\"apple\", \"banana\", \"cherry\", \"orange\", \"kiwi\", \"melon\", \"mango\"]\n",
    "print(mylist[1:4])\n"
   ]
  },
  {
   "cell_type": "code",
   "execution_count": 15,
   "metadata": {},
   "outputs": [
    {
     "name": "stdout",
     "output_type": "stream",
     "text": [
      "['apple', 'banana', 'cherry', 'orange']\n"
     ]
    }
   ],
   "source": [
    "#This example returns the items from the beginning to, but NOT including, \"kiwi\":\n",
    "\n",
    "mylist = [\"apple\", \"banana\", \"cherry\", \"orange\", \"kiwi\", \"melon\", \"mango\"]\n",
    "print(mylist[:4])\n"
   ]
  },
  {
   "cell_type": "code",
   "execution_count": 16,
   "metadata": {},
   "outputs": [
    {
     "name": "stdout",
     "output_type": "stream",
     "text": [
      "['cherry', 'orange', 'kiwi', 'melon', 'mango']\n"
     ]
    }
   ],
   "source": [
    "#This example returns the items from \"cherry\" to the end:\n",
    "\n",
    "mylist = [\"apple\", \"banana\", \"cherry\", \"orange\", \"kiwi\", \"melon\", \"mango\"]\n",
    "print(mylist[2:])"
   ]
  },
  {
   "cell_type": "code",
   "execution_count": 17,
   "metadata": {},
   "outputs": [
    {
     "name": "stdout",
     "output_type": "stream",
     "text": [
      "No, It is not in the list\n"
     ]
    }
   ],
   "source": [
    "#To determine if a specified item is present in a list use the 'in' keyword:\n",
    "mylist = [\"apple\", \"banana\", \"cherry\"]\n",
    "if \"kiwi\" in mylist:\n",
    "  print(\"Yes, 'kiwi' is in the fruits list\")\n",
    "else:\n",
    "    print(\"No, It is not in the list\")\n"
   ]
  },
  {
   "cell_type": "code",
   "execution_count": 18,
   "metadata": {},
   "outputs": [
    {
     "name": "stdout",
     "output_type": "stream",
     "text": [
      "['apple', 'blackcurrant', 'cherry']\n"
     ]
    }
   ],
   "source": [
    "#To change the value of a specific item, refer to the index number:\n",
    "#Change the second item:\n",
    "\n",
    "mylist = [\"apple\", \"banana\", \"cherry\"]\n",
    "mylist[1] = \"blackcurrant\"\n",
    "print(mylist)"
   ]
  },
  {
   "cell_type": "code",
   "execution_count": 19,
   "metadata": {},
   "outputs": [
    {
     "name": "stdout",
     "output_type": "stream",
     "text": [
      "['apple', 'blackcurrant', 'watermelon', 'orange', 'kiwi', 'mango']\n"
     ]
    }
   ],
   "source": [
    "#Change the values \"banana\" and \"cherry\" with the values \"blackcurrant\" and \"watermelon\":\n",
    "\n",
    "mylist = [\"apple\", \"banana\", \"cherry\", \"orange\", \"kiwi\", \"mango\"]\n",
    "mylist[1:3] = [\"blackcurrant\", \"watermelon\"]\n",
    "print(mylist)"
   ]
  },
  {
   "cell_type": "code",
   "execution_count": 20,
   "metadata": {},
   "outputs": [
    {
     "name": "stdout",
     "output_type": "stream",
     "text": [
      "['apple', 'banana', 'cherry', 'orange']\n"
     ]
    }
   ],
   "source": [
    "#To add an item to the end of the list, use the append() method:\n",
    "#Using the append() method to append an item:\n",
    "\n",
    "mylist = [\"apple\", \"banana\", \"cherry\"]\n",
    "mylist.append(\"orange\")\n",
    "print(mylist)"
   ]
  },
  {
   "cell_type": "code",
   "execution_count": 21,
   "metadata": {},
   "outputs": [
    {
     "name": "stdout",
     "output_type": "stream",
     "text": [
      "['apple', 'orange', 'banana', 'cherry']\n"
     ]
    }
   ],
   "source": [
    "#The insert() method inserts an item at the specified index:\n",
    "#Insert an item as the second position:\n",
    "\n",
    "mylist = [\"apple\", \"banana\", \"cherry\"]\n",
    "mylist.insert(1, \"orange\")\n",
    "print(mylist)"
   ]
  },
  {
   "cell_type": "code",
   "execution_count": 22,
   "metadata": {},
   "outputs": [
    {
     "name": "stdout",
     "output_type": "stream",
     "text": [
      "['apple', 'banana', 'cherry', 'mango', 'pineapple', 'papaya']\n"
     ]
    }
   ],
   "source": [
    "#To append elements from another list to the current list, use the extend() method.\n",
    "mylist = [\"apple\", \"banana\", \"cherry\"]\n",
    "tropical = [\"mango\", \"pineapple\", \"papaya\"]\n",
    "mylist.extend(tropical)\n",
    "print(mylist)"
   ]
  },
  {
   "cell_type": "code",
   "execution_count": 23,
   "metadata": {},
   "outputs": [
    {
     "name": "stdout",
     "output_type": "stream",
     "text": [
      "['apple', 'cherry']\n"
     ]
    }
   ],
   "source": [
    "#The remove() method removes the specified item.\n",
    "#Remove \"banana\":\n",
    "\n",
    "mylist = [\"apple\", \"banana\", \"cherry\"]\n",
    "mylist.remove(\"banana\")\n",
    "print(mylist)"
   ]
  },
  {
   "cell_type": "code",
   "execution_count": null,
   "metadata": {},
   "outputs": [],
   "source": [
    "#The pop() method removes the specified index.\n",
    "mylist = [\"apple\", \"banana\", \"cherry\"]\n",
    "mylist.pop(1)\n",
    "print(mylist)\n",
    "#If you do not specify the index, the pop() method removes the last item."
   ]
  },
  {
   "cell_type": "markdown",
   "metadata": {},
   "source": [
    "## Sort list"
   ]
  },
  {
   "cell_type": "code",
   "execution_count": 24,
   "metadata": {},
   "outputs": [
    {
     "name": "stdout",
     "output_type": "stream",
     "text": [
      "['banana', 'kiwi', 'mango', 'orange', 'pineapple']\n",
      "[3, 15, 23, 34, 67, 88, 100]\n"
     ]
    }
   ],
   "source": [
    "# Use the sort() function to organize all items in your list:\n",
    "\n",
    "mylist = [\"orange\", \"mango\", \"kiwi\", \"pineapple\", \"banana\"]\n",
    "mylist.sort()\n",
    "print(mylist)\n",
    "\n",
    "alpha_list = [34, 23, 67, 15, 100, 88, 3]\n",
    "alpha_list.sort()\n",
    "print(alpha_list)"
   ]
  },
  {
   "cell_type": "code",
   "execution_count": 25,
   "metadata": {},
   "outputs": [
    {
     "name": "stdout",
     "output_type": "stream",
     "text": [
      "['apple', 'banana', 'cherry']\n"
     ]
    }
   ],
   "source": [
    "#Make a copy of a list with the copy() method:\n",
    "\n",
    "thislist = [\"apple\", \"banana\", \"cherry\"]\n",
    "mylist = thislist.copy()\n",
    "print(mylist)"
   ]
  },
  {
   "cell_type": "markdown",
   "metadata": {},
   "source": [
    "## Join Two Lists"
   ]
  },
  {
   "cell_type": "code",
   "execution_count": 26,
   "metadata": {},
   "outputs": [
    {
     "name": "stdout",
     "output_type": "stream",
     "text": [
      "['a', 'b', 'c', 1, 2, 3]\n"
     ]
    }
   ],
   "source": [
    "#One of the easiest ways are by using the + operator.\n",
    "list1 = [\"a\", \"b\", \"c\"]\n",
    "list2 = [1, 2, 3]\n",
    "\n",
    "list3 = list1 + list2\n",
    "print(list3)"
   ]
  },
  {
   "cell_type": "markdown",
   "metadata": {},
   "source": [
    "## Create a nested List"
   ]
  },
  {
   "cell_type": "code",
   "execution_count": 27,
   "metadata": {},
   "outputs": [
    {
     "data": {
      "text/plain": [
       "[['a', 'b', 'c'], [1, 2, 3]]"
      ]
     },
     "execution_count": 27,
     "metadata": {},
     "output_type": "execute_result"
    }
   ],
   "source": [
    "my_nested_list = [list1,list2]\n",
    "my_nested_list"
   ]
  },
  {
   "cell_type": "markdown",
   "metadata": {},
   "source": [
    "### List Comprehension\n",
    "List comprehension offers a shorter syntax when you want to create a new list based on the values of an existing list.\n",
    "\n",
    "Example:\n",
    "\n",
    "Based on a list of fruits, you want a new list, containing only the fruits with the letter \"a\" in the name.\n",
    "\n",
    "Without list comprehension you will have to write a for statement with a conditional test inside:"
   ]
  },
  {
   "cell_type": "code",
   "execution_count": 28,
   "metadata": {},
   "outputs": [
    {
     "name": "stdout",
     "output_type": "stream",
     "text": [
      "['apple', 'banana', 'mango']\n"
     ]
    }
   ],
   "source": [
    "fruits = [\"apple\", \"banana\", \"cherry\", \"kiwi\", \"mango\"]\n",
    "newlist = []\n",
    "\n",
    "for x in fruits:\n",
    "  if \"a\" in x:\n",
    "    newlist.append(x)\n",
    "\n",
    "print(newlist)"
   ]
  },
  {
   "cell_type": "code",
   "execution_count": 29,
   "metadata": {},
   "outputs": [
    {
     "name": "stdout",
     "output_type": "stream",
     "text": [
      "['apple', 'banana', 'mango']\n"
     ]
    }
   ],
   "source": [
    "#With list comprehension you can do all that with only one line of code:\n",
    "#syntax:newlist = [expression for item in iterable if condition == True]\n",
    "fruits = [\"apple\", \"banana\", \"cherry\", \"kiwi\", \"mango\"]\n",
    "\n",
    "newlist = [x for x in fruits if \"a\" in x]\n",
    "\n",
    "print(newlist)"
   ]
  },
  {
   "cell_type": "code",
   "execution_count": 31,
   "metadata": {},
   "outputs": [
    {
     "data": {
      "text/plain": [
       "['banana', 'cherry', 'kiwi', 'mango']"
      ]
     },
     "execution_count": 31,
     "metadata": {},
     "output_type": "execute_result"
    }
   ],
   "source": [
    "#Only accept items that are not \"apple\":\n",
    "\n",
    "newlist = [x for x in fruits if x != \"apple\"]\n",
    "newlist"
   ]
  },
  {
   "cell_type": "code",
   "execution_count": 33,
   "metadata": {},
   "outputs": [
    {
     "data": {
      "text/plain": [
       "['apple', 'banana', 'cherry', 'kiwi', 'mango']"
      ]
     },
     "execution_count": 33,
     "metadata": {},
     "output_type": "execute_result"
    }
   ],
   "source": [
    "#With no if statement:\n",
    "\n",
    "newlist = [x for x in fruits]\n",
    "newlist"
   ]
  },
  {
   "cell_type": "code",
   "execution_count": 38,
   "metadata": {},
   "outputs": [
    {
     "data": {
      "text/plain": [
       "[0, 2, 4, 6, 8, 10]"
      ]
     },
     "execution_count": 38,
     "metadata": {},
     "output_type": "execute_result"
    }
   ],
   "source": [
    "#You can use the range() function to create an iterable:\n",
    "\n",
    "newlist = [x for x in range(11)]\n",
    "newlist"
   ]
  },
  {
   "cell_type": "code",
   "execution_count": 40,
   "metadata": {},
   "outputs": [
    {
     "data": {
      "text/plain": [
       "[0, 1, 2, 3, 4]"
      ]
     },
     "execution_count": 40,
     "metadata": {},
     "output_type": "execute_result"
    }
   ],
   "source": [
    "#Accept only numbers lower than 5:\n",
    "\n",
    "newlist = [x for x in range(10) if x < 5]\n",
    "newlist"
   ]
  },
  {
   "cell_type": "markdown",
   "metadata": {},
   "source": [
    "## Tuple\n",
    "A tuple is a collection which is ordered and unchangeable.\n",
    "\n",
    "Tuples are written with round brackets ()."
   ]
  },
  {
   "cell_type": "code",
   "execution_count": null,
   "metadata": {},
   "outputs": [],
   "source": [
    "#Create a Tuple:\n",
    "\n",
    "mytuple = (\"apple\", \"banana\", \"cherry\")\n",
    "print(mytuple)"
   ]
  },
  {
   "cell_type": "code",
   "execution_count": null,
   "metadata": {},
   "outputs": [],
   "source": [
    "#Tuple items can be of any data type:\n",
    "#String, int and boolean data types:\n",
    "\n",
    "tuple1 = (\"apple\", \"banana\", \"cherry\")\n",
    "tuple2 = (1, 5, 7, 9, 3)\n",
    "tuple3 = (True, False, False)"
   ]
  },
  {
   "cell_type": "code",
   "execution_count": null,
   "metadata": {},
   "outputs": [],
   "source": [
    "# Since tuples are immutable, you can't change them. What you can do though is convert a tuple to a list, \n",
    "#make an edit and then convert it back to a tuple\n",
    "\n",
    "tuple1 = (9,10,11,12)\n",
    "l1 = list(tuple1)\n",
    "l1[0] = 8\n",
    "tuple1 = tuple(l1)\n",
    "print(tuple1)"
   ]
  },
  {
   "cell_type": "markdown",
   "metadata": {},
   "source": [
    "## Python Sets\n",
    "* A set is a collection which is unordered, unchangeable, and unindexed.\n",
    "* Set items cannot be modified, but you can remove items and add new items.\n",
    "* Sets are written with curly brackets {}."
   ]
  },
  {
   "cell_type": "code",
   "execution_count": null,
   "metadata": {},
   "outputs": [],
   "source": [
    "#Create a Set:\n",
    "\n",
    "myset = {\"apple\", \"banana\", \"cherry\"}\n",
    "print(myset)"
   ]
  },
  {
   "cell_type": "markdown",
   "metadata": {},
   "source": [
    "## Python Dictionary\n",
    "Dictionaries are a list of key values which have specified value pair, where each key-value pairs are separated by a comma, and is denoted with the curly brackets { } ."
   ]
  },
  {
   "cell_type": "code",
   "execution_count": null,
   "metadata": {},
   "outputs": [],
   "source": [
    "#Create and print a dictionary:\n",
    "\n",
    "mydict = {\n",
    "  \"brand\": \"Ford\",\n",
    "  \"model\": \"Mustang\",\n",
    "  \"year\": 1964\n",
    "}\n",
    "print(mydict)\n",
    "# Print the \"brand\" value of the dictionary:\n",
    "print(mydict[\"brand\"])\n",
    "# To change and item from a dictionary, refer to that item by its key\n",
    "#change the year to 2000\n",
    "mydict[\"year\"]=2000"
   ]
  },
  {
   "cell_type": "markdown",
   "metadata": {},
   "source": [
    "You can also use the following methods to access items in a dictionary\n",
    "dict.key() #isolates the keys\n",
    "dict.values() # Isolates the values\n",
    "dict.item()# returnsitems in a list format of (key,value)"
   ]
  },
  {
   "cell_type": "code",
   "execution_count": null,
   "metadata": {},
   "outputs": [],
   "source": [
    "# use the for loop to loop through a dictionary\n",
    "student_data = {'name':'Esther',\n",
    "                'Age':15,\n",
    "                'class': 'jss2',\n",
    "                'gender': 'female'}\n",
    "for i in student_data:\n",
    "    print(i)\n",
    "for i in student_data.keys():\n",
    "    print(i)\n",
    "for i in student_data.values():\n",
    "    print(i)"
   ]
  },
  {
   "cell_type": "markdown",
   "metadata": {},
   "source": []
  },
  {
   "cell_type": "markdown",
   "metadata": {},
   "source": [
    "### Dictionary Comprehension \n",
    "This is a concise way to create dictionaries in python. It allows you to create a dictionary by specifying key-value pairs using compact syntax.\n",
    "mydict = {key:value for key, value in iterable}"
   ]
  },
  {
   "cell_type": "code",
   "execution_count": null,
   "metadata": {},
   "outputs": [],
   "source": []
  }
 ],
 "metadata": {
  "kernelspec": {
   "display_name": "Python 3",
   "language": "python",
   "name": "python3"
  },
  "language_info": {
   "codemirror_mode": {
    "name": "ipython",
    "version": 3
   },
   "file_extension": ".py",
   "mimetype": "text/x-python",
   "name": "python",
   "nbconvert_exporter": "python",
   "pygments_lexer": "ipython3",
   "version": "3.7.6"
  }
 },
 "nbformat": 4,
 "nbformat_minor": 5
}
